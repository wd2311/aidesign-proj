{
 "cells": [
  {
   "cell_type": "code",
   "execution_count": 2,
   "metadata": {
    "colab": {
     "base_uri": "https://localhost:8080/",
     "height": 852
    },
    "colab_type": "code",
    "id": "VK-1pKuRQFcu",
    "outputId": "586ca776-391d-4d7e-9602-b2b125d93249"
   },
   "outputs": [
    {
     "name": "stderr",
     "output_type": "stream",
     "text": [
      "[nltk_data] Downloading collection 'popular'\n",
      "[nltk_data]    | \n",
      "[nltk_data]    | Downloading package cmudict to\n",
      "[nltk_data]    |     /home/hex-3/nltk_data...\n",
      "[nltk_data]    |   Package cmudict is already up-to-date!\n",
      "[nltk_data]    | Downloading package gazetteers to\n",
      "[nltk_data]    |     /home/hex-3/nltk_data...\n",
      "[nltk_data]    |   Package gazetteers is already up-to-date!\n",
      "[nltk_data]    | Downloading package genesis to\n",
      "[nltk_data]    |     /home/hex-3/nltk_data...\n",
      "[nltk_data]    |   Package genesis is already up-to-date!\n",
      "[nltk_data]    | Downloading package gutenberg to\n",
      "[nltk_data]    |     /home/hex-3/nltk_data...\n",
      "[nltk_data]    |   Package gutenberg is already up-to-date!\n",
      "[nltk_data]    | Downloading package inaugural to\n",
      "[nltk_data]    |     /home/hex-3/nltk_data...\n",
      "[nltk_data]    |   Package inaugural is already up-to-date!\n",
      "[nltk_data]    | Downloading package movie_reviews to\n",
      "[nltk_data]    |     /home/hex-3/nltk_data...\n",
      "[nltk_data]    |   Package movie_reviews is already up-to-date!\n",
      "[nltk_data]    | Downloading package names to /home/hex-3/nltk_data...\n",
      "[nltk_data]    |   Package names is already up-to-date!\n",
      "[nltk_data]    | Downloading package shakespeare to\n",
      "[nltk_data]    |     /home/hex-3/nltk_data...\n",
      "[nltk_data]    |   Package shakespeare is already up-to-date!\n",
      "[nltk_data]    | Downloading package stopwords to\n",
      "[nltk_data]    |     /home/hex-3/nltk_data...\n",
      "[nltk_data]    |   Package stopwords is already up-to-date!\n",
      "[nltk_data]    | Downloading package treebank to\n",
      "[nltk_data]    |     /home/hex-3/nltk_data...\n",
      "[nltk_data]    |   Package treebank is already up-to-date!\n",
      "[nltk_data]    | Downloading package twitter_samples to\n",
      "[nltk_data]    |     /home/hex-3/nltk_data...\n",
      "[nltk_data]    |   Package twitter_samples is already up-to-date!\n",
      "[nltk_data]    | Downloading package omw to /home/hex-3/nltk_data...\n",
      "[nltk_data]    |   Package omw is already up-to-date!\n",
      "[nltk_data]    | Downloading package wordnet to\n",
      "[nltk_data]    |     /home/hex-3/nltk_data...\n",
      "[nltk_data]    |   Package wordnet is already up-to-date!\n",
      "[nltk_data]    | Downloading package wordnet_ic to\n",
      "[nltk_data]    |     /home/hex-3/nltk_data...\n",
      "[nltk_data]    |   Package wordnet_ic is already up-to-date!\n",
      "[nltk_data]    | Downloading package words to /home/hex-3/nltk_data...\n",
      "[nltk_data]    |   Package words is already up-to-date!\n",
      "[nltk_data]    | Downloading package maxent_ne_chunker to\n",
      "[nltk_data]    |     /home/hex-3/nltk_data...\n",
      "[nltk_data]    |   Package maxent_ne_chunker is already up-to-date!\n",
      "[nltk_data]    | Downloading package punkt to /home/hex-3/nltk_data...\n",
      "[nltk_data]    |   Package punkt is already up-to-date!\n",
      "[nltk_data]    | Downloading package snowball_data to\n",
      "[nltk_data]    |     /home/hex-3/nltk_data...\n",
      "[nltk_data]    |   Package snowball_data is already up-to-date!\n",
      "[nltk_data]    | Downloading package averaged_perceptron_tagger to\n",
      "[nltk_data]    |     /home/hex-3/nltk_data...\n",
      "[nltk_data]    |   Package averaged_perceptron_tagger is already up-\n",
      "[nltk_data]    |       to-date!\n",
      "[nltk_data]    | \n",
      "[nltk_data]  Done downloading collection popular\n"
     ]
    },
    {
     "data": {
      "text/plain": [
       "(20130, 11)"
      ]
     },
     "execution_count": 2,
     "metadata": {},
     "output_type": "execute_result"
    }
   ],
   "source": [
    "import json\n",
    "import gensim\n",
    "import pandas as pd\n",
    "import numpy as np\n",
    "import nltk\n",
    "nltk.download('popular')\n",
    "from nltk.stem import WordNetLemmatizer\n",
    "\n",
    "with open('data/full_format_recipes.json') as f:\n",
    "  data = json.load(f)\n",
    "\n",
    "data = pd.DataFrame.from_dict(data, orient='columns')\n",
    "data.shape"
   ]
  },
  {
   "cell_type": "code",
   "execution_count": 3,
   "metadata": {
    "colab": {
     "base_uri": "https://localhost:8080/",
     "height": 34
    },
    "colab_type": "code",
    "id": "t1c7tc0fQOEV",
    "outputId": "869366b1-2422-43e9-f8d0-f1641cbb7cfd"
   },
   "outputs": [
    {
     "data": {
      "text/plain": [
       "(20111, 11)"
      ]
     },
     "execution_count": 3,
     "metadata": {
      "tags": []
     },
     "output_type": "execute_result"
    }
   ],
   "source": [
    "### drop rows with no ingredients list and no recipes\n",
    "data.dropna(axis = 0, subset = ['ingredients', 'directions'], inplace = True)\n",
    "data.shape"
   ]
  },
  {
   "cell_type": "code",
   "execution_count": 4,
   "metadata": {
    "colab": {
     "base_uri": "https://localhost:8080/",
     "height": 34
    },
    "colab_type": "code",
    "id": "997NfRnYQpTM",
    "outputId": "3ce1505d-e646-4cf7-f26c-6dbc6abacef5"
   },
   "outputs": [
    {
     "name": "stdout",
     "output_type": "stream",
     "text": [
      "16108 4003\n"
     ]
    }
   ],
   "source": [
    "idx = np.random.rand(len(data)) < 0.8\n",
    "\n",
    "train_data = data.iloc[idx]\n",
    "validation_data = data.iloc[~idx]\n",
    "\n",
    "print(len(train_data), len(validation_data))"
   ]
  },
  {
   "cell_type": "code",
   "execution_count": 0,
   "metadata": {
    "colab": {},
    "colab_type": "code",
    "id": "CLrwEZUbQZF1"
   },
   "outputs": [],
   "source": [
    "### common measures used\n",
    "measures= np.array(['liter','millilitres','mL','grams','g', 'kg','teaspoon',\n",
    "          'tsp', 'tablespoon','tbsp','fluid', 'ounce','oz','fl.oz', 'cup','pint','pt',\n",
    "          'quart','qt','gallon','gal','smidgen','drop','pinch','dash','scruple',\n",
    "          'dessertspoon','teacup','cup','c','pottle','gill','dram','wineglass','coffeespoon',\n",
    "          'pound','pounded','lb','tbsp','plus','firmly', 'packed','lightly','level','even',\n",
    "          'rounded','heaping','heaped','sifted','bushel','peck','stick','chopped','sliced',\n",
    "          'halves', 'shredded','slivered','sliced','whole','paste','whole',' fresh', 'peeled', \n",
    "          'diced','mashed','dried','frozen','fresh','peeled','candied','no', 'pulp','crystallized',\n",
    "          'canned','crushed','minced','julienned','clove','head', 'small','large','medium', 'torn', 'cleaned', 'degree'])\n",
    "\n",
    "lemmatizer = WordNetLemmatizer()\n",
    "measures = np.array([lemmatizer.lemmatize(m) for m in measures])"
   ]
  },
  {
   "cell_type": "code",
   "execution_count": 0,
   "metadata": {
    "colab": {},
    "colab_type": "code",
    "id": "awV6_jP3Qhw4"
   },
   "outputs": [],
   "source": [
    "### make a list of ingredients present in the given recipes\n",
    "\n",
    "meal_ingredients = []\n",
    "\n",
    "for ingredient in train_data['ingredients']:\n",
    "    for ingr in ingredient:\n",
    "      simp_ingr = \"\"\n",
    "      tokens = nltk.word_tokenize(ingr.strip())\n",
    "      tokens = [token for token in tokens if token.isalpha()]\n",
    "      tokens = [lemmatizer.lemmatize(token) for token in tokens]\n",
    "      tokens = [token for token in tokens if token not in measures]\n",
    "      pos_tokens = nltk.pos_tag(tokens)\n",
    "      for tok, tag in pos_tokens:\n",
    "          if tag.startswith(\"N\"):\n",
    "              simp_ingr += tok.lower() + \" \"\n",
    "      simp_ingr = simp_ingr[:-1]\n",
    "      if simp_ingr:\n",
    "        meal_ingredients.append(simp_ingr)"
   ]
  },
  {
   "cell_type": "code",
   "execution_count": 7,
   "metadata": {
    "colab": {
     "base_uri": "https://localhost:8080/",
     "height": 54
    },
    "colab_type": "code",
    "id": "t6K6EjutUUao",
    "outputId": "2dd2079d-6898-47bd-a024-dde7c566102c"
   },
   "outputs": [
    {
     "name": "stdout",
     "output_type": "stream",
     "text": [
      "['stock', 'brown lentil', 'lentil', 'stalk celery', 'carrot', 'sprig thyme', 'kosher salt', 'tomato', 'fuji apple', 'lemon juice', 'oil', 'ground pepper', 'sheet cut crosswise flour tortilla', 'turkey breast', 'bibb lettuce', 'cream', 'onion', 'salt', 'bay leaf', 'garlic', 'pepper', 'ground nutmeg', 'pinch thyme', 'shallot', 'butter', 'boneless center pork sinew cut chunk', 'egg', 'flour', 'tawny port', 'currant', 'lettuce leaf', 'peppercorn', 'minced parsley', 'bay leaf', 'bread baguette slice', 'oil', 'onion', 'currant', 'wine vinegar', 'chicken broth', 'thyme', 'sugar', 'fennel bulb anise stalk bulb cut dice feathery leaf garnish', 'onion', 'butter', 'russet baking potato', 'chicken broth', 'milk', 'oil', 'onion']\n"
     ]
    }
   ],
   "source": [
    "print(meal_ingredients[:50])"
   ]
  },
  {
   "cell_type": "code",
   "execution_count": 8,
   "metadata": {
    "colab": {
     "base_uri": "https://localhost:8080/",
     "height": 34
    },
    "colab_type": "code",
    "id": "1wFkT7fGUbwM",
    "outputId": "d6a2771e-51db-4f64-a751-907927b41707"
   },
   "outputs": [
    {
     "data": {
      "text/plain": [
       "(29382097, 169443700)"
      ]
     },
     "execution_count": 8,
     "metadata": {
      "tags": []
     },
     "output_type": "execute_result"
    }
   ],
   "source": [
    "### Bag of Words Model\n",
    "\n",
    "model = gensim.models.Word2Vec(min_count = 1,  \n",
    "                              size = 100, window = 5) \n",
    "model.build_vocab(meal_ingredients)\n",
    "model.train(meal_ingredients, total_examples = model.corpus_count, \n",
    "            epochs=100, report_delay=1)"
   ]
  },
  {
   "cell_type": "code",
   "execution_count": 9,
   "metadata": {
    "colab": {
     "base_uri": "https://localhost:8080/",
     "height": 90
    },
    "colab_type": "code",
    "id": "CCpIxaVuUilD",
    "outputId": "abd66d65-d7be-4b22-dc93-e62a3eda6e09"
   },
   "outputs": [
    {
     "name": "stderr",
     "output_type": "stream",
     "text": [
      "/usr/local/lib/python3.6/dist-packages/ipykernel_launcher.py:2: DeprecationWarning: Call to deprecated `__getitem__` (Method will be removed in 4.0.0, use self.wv.__getitem__() instead).\n",
      "  \n"
     ]
    },
    {
     "data": {
      "text/plain": [
       "(49, 100)"
      ]
     },
     "execution_count": 9,
     "metadata": {
      "tags": []
     },
     "output_type": "execute_result"
    }
   ],
   "source": [
    "## vectors for all the words\n",
    "\n",
    "X = model[model.wv.vocab]\n",
    "\n",
    "X.shape\n",
    "\n",
    "### Why does it get so reduced???"
   ]
  },
  {
   "cell_type": "code",
   "execution_count": 11,
   "metadata": {
    "colab": {
     "base_uri": "https://localhost:8080/",
     "height": 554
    },
    "colab_type": "code",
    "id": "c67IUFrwUpKo",
    "outputId": "60bf73fe-f78a-4d04-a3b6-279986a6895c"
   },
   "outputs": [
    {
     "data": {
      "text/plain": [
       "<matplotlib.collections.PathCollection at 0x7fa4978d6d68>"
      ]
     },
     "execution_count": 11,
     "metadata": {
      "tags": []
     },
     "output_type": "execute_result"
    },
    {
     "data": {
      "image/png": "[encoded data removed]",
      "text/plain": [
       "<Figure size 720x648 with 1 Axes>"
      ]
     },
     "metadata": {
      "tags": []
     },
     "output_type": "display_data"
    }
   ],
   "source": [
    "import umap\n",
    "import matplotlib.pyplot as plt\n",
    "\n",
    "##### Visualisation\n",
    "##### The ingredients do not cluster!!\n",
    "\n",
    "cluster_embedding = umap.UMAP(n_neighbors=30, min_dist=0.0,\n",
    "                              n_components=2, random_state=42).fit_transform(X)\n",
    "\n",
    "plt.figure(figsize=(10,9))\n",
    "plt.scatter(cluster_embedding[:, 0], cluster_embedding[:, 1], s=3, cmap='Spectral')"
   ]
  },
  {
   "cell_type": "code",
   "execution_count": 16,
   "metadata": {
    "colab": {
     "base_uri": "https://localhost:8080/",
     "height": 372
    },
    "colab_type": "code",
    "id": "tAAJHe1VU13b",
    "outputId": "24aff426-87a1-43a4-9851-de2742cabc14"
   },
   "outputs": [
    {
     "name": "stderr",
     "output_type": "stream",
     "text": [
      "/usr/local/lib/python3.6/dist-packages/ipykernel_launcher.py:1: DeprecationWarning: Call to deprecated `most_similar` (Method will be removed in 4.0.0, use self.wv.most_similar() instead).\n",
      "  \"\"\"Entry point for launching an IPython kernel.\n"
     ]
    },
    {
     "ename": "KeyError",
     "evalue": "ignored",
     "output_type": "error",
     "traceback": [
      "\u001b[0;31m---------------------------------------------------------------------------\u001b[0m",
      "\u001b[0;31mKeyError\u001b[0m                                  Traceback (most recent call last)",
      "\u001b[0;32m<ipython-input-16-0fe8a9378e6e>\u001b[0m in \u001b[0;36m<module>\u001b[0;34m()\u001b[0m\n\u001b[0;32m----> 1\u001b[0;31m \u001b[0mmodel\u001b[0m\u001b[0;34m.\u001b[0m\u001b[0mmost_similar\u001b[0m\u001b[0;34m(\u001b[0m\u001b[0mpositive\u001b[0m\u001b[0;34m=\u001b[0m\u001b[0;34m[\u001b[0m\u001b[0;34m'apple'\u001b[0m\u001b[0;34m]\u001b[0m\u001b[0;34m,\u001b[0m \u001b[0mtopn\u001b[0m\u001b[0;34m=\u001b[0m \u001b[0;36m5\u001b[0m\u001b[0;34m)\u001b[0m\u001b[0;34m\u001b[0m\u001b[0;34m\u001b[0m\u001b[0m\n\u001b[0m",
      "\u001b[0;32m/usr/local/lib/python3.6/dist-packages/gensim/utils.py\u001b[0m in \u001b[0;36mnew_func1\u001b[0;34m(*args, **kwargs)\u001b[0m\n\u001b[1;32m   1420\u001b[0m                     \u001b[0mstacklevel\u001b[0m\u001b[0;34m=\u001b[0m\u001b[0;36m2\u001b[0m\u001b[0;34m\u001b[0m\u001b[0;34m\u001b[0m\u001b[0m\n\u001b[1;32m   1421\u001b[0m                 )\n\u001b[0;32m-> 1422\u001b[0;31m                 \u001b[0;32mreturn\u001b[0m \u001b[0mfunc\u001b[0m\u001b[0;34m(\u001b[0m\u001b[0;34m*\u001b[0m\u001b[0margs\u001b[0m\u001b[0;34m,\u001b[0m \u001b[0;34m**\u001b[0m\u001b[0mkwargs\u001b[0m\u001b[0;34m)\u001b[0m\u001b[0;34m\u001b[0m\u001b[0;34m\u001b[0m\u001b[0m\n\u001b[0m\u001b[1;32m   1423\u001b[0m \u001b[0;34m\u001b[0m\u001b[0m\n\u001b[1;32m   1424\u001b[0m             \u001b[0;32mreturn\u001b[0m \u001b[0mnew_func1\u001b[0m\u001b[0;34m\u001b[0m\u001b[0;34m\u001b[0m\u001b[0m\n",
      "\u001b[0;32m/usr/local/lib/python3.6/dist-packages/gensim/models/base_any2vec.py\u001b[0m in \u001b[0;36mmost_similar\u001b[0;34m(self, positive, negative, topn, restrict_vocab, indexer)\u001b[0m\n\u001b[1;32m   1395\u001b[0m \u001b[0;34m\u001b[0m\u001b[0m\n\u001b[1;32m   1396\u001b[0m         \"\"\"\n\u001b[0;32m-> 1397\u001b[0;31m         \u001b[0;32mreturn\u001b[0m \u001b[0mself\u001b[0m\u001b[0;34m.\u001b[0m\u001b[0mwv\u001b[0m\u001b[0;34m.\u001b[0m\u001b[0mmost_similar\u001b[0m\u001b[0;34m(\u001b[0m\u001b[0mpositive\u001b[0m\u001b[0;34m,\u001b[0m \u001b[0mnegative\u001b[0m\u001b[0;34m,\u001b[0m \u001b[0mtopn\u001b[0m\u001b[0;34m,\u001b[0m \u001b[0mrestrict_vocab\u001b[0m\u001b[0;34m,\u001b[0m \u001b[0mindexer\u001b[0m\u001b[0;34m)\u001b[0m\u001b[0;34m\u001b[0m\u001b[0;34m\u001b[0m\u001b[0m\n\u001b[0m\u001b[1;32m   1398\u001b[0m \u001b[0;34m\u001b[0m\u001b[0m\n\u001b[1;32m   1399\u001b[0m     \u001b[0;34m@\u001b[0m\u001b[0mdeprecated\u001b[0m\u001b[0;34m(\u001b[0m\u001b[0;34m\"Method will be removed in 4.0.0, use self.wv.wmdistance() instead\"\u001b[0m\u001b[0;34m)\u001b[0m\u001b[0;34m\u001b[0m\u001b[0;34m\u001b[0m\u001b[0m\n",
      "\u001b[0;32m/usr/local/lib/python3.6/dist-packages/gensim/models/keyedvectors.py\u001b[0m in \u001b[0;36mmost_similar\u001b[0;34m(self, positive, negative, topn, restrict_vocab, indexer)\u001b[0m\n\u001b[1;32m    529\u001b[0m                 \u001b[0mmean\u001b[0m\u001b[0;34m.\u001b[0m\u001b[0mappend\u001b[0m\u001b[0;34m(\u001b[0m\u001b[0mweight\u001b[0m \u001b[0;34m*\u001b[0m \u001b[0mword\u001b[0m\u001b[0;34m)\u001b[0m\u001b[0;34m\u001b[0m\u001b[0;34m\u001b[0m\u001b[0m\n\u001b[1;32m    530\u001b[0m             \u001b[0;32melse\u001b[0m\u001b[0;34m:\u001b[0m\u001b[0;34m\u001b[0m\u001b[0;34m\u001b[0m\u001b[0m\n\u001b[0;32m--> 531\u001b[0;31m                 \u001b[0mmean\u001b[0m\u001b[0;34m.\u001b[0m\u001b[0mappend\u001b[0m\u001b[0;34m(\u001b[0m\u001b[0mweight\u001b[0m \u001b[0;34m*\u001b[0m \u001b[0mself\u001b[0m\u001b[0;34m.\u001b[0m\u001b[0mword_vec\u001b[0m\u001b[0;34m(\u001b[0m\u001b[0mword\u001b[0m\u001b[0;34m,\u001b[0m \u001b[0muse_norm\u001b[0m\u001b[0;34m=\u001b[0m\u001b[0;32mTrue\u001b[0m\u001b[0;34m)\u001b[0m\u001b[0;34m)\u001b[0m\u001b[0;34m\u001b[0m\u001b[0;34m\u001b[0m\u001b[0m\n\u001b[0m\u001b[1;32m    532\u001b[0m                 \u001b[0;32mif\u001b[0m \u001b[0mword\u001b[0m \u001b[0;32min\u001b[0m \u001b[0mself\u001b[0m\u001b[0;34m.\u001b[0m\u001b[0mvocab\u001b[0m\u001b[0;34m:\u001b[0m\u001b[0;34m\u001b[0m\u001b[0;34m\u001b[0m\u001b[0m\n\u001b[1;32m    533\u001b[0m                     \u001b[0mall_words\u001b[0m\u001b[0;34m.\u001b[0m\u001b[0madd\u001b[0m\u001b[0;34m(\u001b[0m\u001b[0mself\u001b[0m\u001b[0;34m.\u001b[0m\u001b[0mvocab\u001b[0m\u001b[0;34m[\u001b[0m\u001b[0mword\u001b[0m\u001b[0;34m]\u001b[0m\u001b[0;34m.\u001b[0m\u001b[0mindex\u001b[0m\u001b[0;34m)\u001b[0m\u001b[0;34m\u001b[0m\u001b[0;34m\u001b[0m\u001b[0m\n",
      "\u001b[0;32m/usr/local/lib/python3.6/dist-packages/gensim/models/keyedvectors.py\u001b[0m in \u001b[0;36mword_vec\u001b[0;34m(self, word, use_norm)\u001b[0m\n\u001b[1;32m    450\u001b[0m             \u001b[0;32mreturn\u001b[0m \u001b[0mresult\u001b[0m\u001b[0;34m\u001b[0m\u001b[0;34m\u001b[0m\u001b[0m\n\u001b[1;32m    451\u001b[0m         \u001b[0;32melse\u001b[0m\u001b[0;34m:\u001b[0m\u001b[0;34m\u001b[0m\u001b[0;34m\u001b[0m\u001b[0m\n\u001b[0;32m--> 452\u001b[0;31m             \u001b[0;32mraise\u001b[0m \u001b[0mKeyError\u001b[0m\u001b[0;34m(\u001b[0m\u001b[0;34m\"word '%s' not in vocabulary\"\u001b[0m \u001b[0;34m%\u001b[0m \u001b[0mword\u001b[0m\u001b[0;34m)\u001b[0m\u001b[0;34m\u001b[0m\u001b[0;34m\u001b[0m\u001b[0m\n\u001b[0m\u001b[1;32m    453\u001b[0m \u001b[0;34m\u001b[0m\u001b[0m\n\u001b[1;32m    454\u001b[0m     \u001b[0;32mdef\u001b[0m \u001b[0mget_vector\u001b[0m\u001b[0;34m(\u001b[0m\u001b[0mself\u001b[0m\u001b[0;34m,\u001b[0m \u001b[0mword\u001b[0m\u001b[0;34m)\u001b[0m\u001b[0;34m:\u001b[0m\u001b[0;34m\u001b[0m\u001b[0;34m\u001b[0m\u001b[0m\n",
      "\u001b[0;31mKeyError\u001b[0m: \"word 'apple' not in vocabulary\""
     ]
    }
   ],
   "source": [
    "model.most_similar(positive=['apple'], topn= 5)"
   ]
  },
  {
   "cell_type": "code",
   "execution_count": 4,
   "metadata": {
    "colab": {},
    "colab_type": "code",
    "id": "MJjyp-8XV8Pf"
   },
   "outputs": [],
   "source": [
    "import json\n",
    "import csv\n",
    "\n",
    "import numpy as np\n",
    "import random\n",
    "\n",
    "def query(params):\n",
    "\n",
    "    cart = [data[int(idx)] for idx in params['cart']]\n",
    "    allergys = [a for a in params['allergys']]\n",
    "    pantry = [p for p in params['pantry']]\n",
    "\n",
    "    # Candidate Generator\n",
    "    def candidate_generator(num_generated_candidates):\n",
    "        # Vectorize cart: Dictionaries { ingredient : count }\n",
    "        cart_ingredients = np.zeros(len(data[0]['ingredient_vector']))\n",
    "        for recipe in cart:\n",
    "            cart_ingredients = np.maximum(cart_ingredients, recipe['ingredient_vector'])\n",
    "\n",
    "        # Returns true if the recipe does not conflict with the user's allergy restrictions\n",
    "        def allergy_checker(recipe):\n",
    "            allergy_categories = {\n",
    "                'dairy': ['dairy', 'milk', 'cheese', 'butter', 'yogurt', 'cream'],\n",
    "                'nuts': ['nut', 'almond', 'cashew', 'pecan'],\n",
    "                'shellfish': ['shellfish', 'clam', 'oyster', 'mussel', 'scallop'],\n",
    "                'gluten': ['gluten', 'wheat', 'rye', 'barley', 'bread', 'pasta', 'beer', 'bread']\n",
    "            }\n",
    "\n",
    "            # If finds allergy, return false\n",
    "            for allergy in allergys: # for evert allergy,\n",
    "                if allergy in allergy_categories: # if it's in one of our saved allergy categories\n",
    "                    allergy_words = allergy_categories[allergy] # get all the words for that allergy category\n",
    "                    for ingredient in recipe['ingredients']: # for every ingredient\n",
    "                        for allergy_word in allergy_words: # check if any allergy words are in the ingredient\n",
    "                            if allergy_word in ingredient: # if they are, allergy check fails.\n",
    "                                return False\n",
    "            \n",
    "            # If no allergy issue, return true (passed allergy check)\n",
    "            return True   \n",
    "\n",
    "        # Containment of vector a in b\n",
    "        def containment(a, b):\n",
    "            within = np.dot(a, b)\n",
    "            total = np.sum(a)\n",
    "            if total == 0:\n",
    "                return 0\n",
    "            return within / total\n",
    "\n",
    "        # IOU of vectors a and b\n",
    "        def iou(a, b):\n",
    "            intersection = np.sum(np.dot(a, b))\n",
    "            union = np.sum(a) + np.sum(b) - intersection\n",
    "            if union == 0:\n",
    "                return 0\n",
    "            return intersection / union\n",
    "\n",
    "        # Find similar recipes by ingredients, querying our similarity method\n",
    "        candidate_ranks = []\n",
    "        for other_recipe in data:\n",
    "            if allergy_checker(other_recipe): # Only consider a recipe for candidacy if it doesn't violate the user's allergy restrictions\n",
    "                other_ingredients = other_recipe['ingredient_vector']\n",
    "                rank = containment(other_ingredients, cart_ingredients)\n",
    "                candidate_ranks.append((rank, other_recipe))\n",
    "\n",
    "        # Candidates have been generated, by sorting by most similar\n",
    "        generated_candidates = [x[1] for x in sorted(candidate_ranks, reverse=True, key=lambda x: x[0])][:num_generated_candidates]\n",
    "        return generated_candidates\n",
    "\n",
    "    # Ranker\n",
    "    def ranker(generated_candidates, num_ranked_results):\n",
    "        \n",
    "        # Helper method to generate random subset of candidates\n",
    "        def sample_random_subset_of_candidates(generated_candidates, num_ranked_results):\n",
    "            sample_subset = random.sample(generated_candidates, num_ranked_results)\n",
    "            return sample_subset\n",
    "\n",
    "        # Nutrition similarity\n",
    "        def nutrition_similarity(candidate_nutrition, other_candidate_nutrition):\n",
    "            \n",
    "            def iou(a, b):\n",
    "                intersection = np.sum(np.dot(a, b))\n",
    "                union = np.sum(a) + np.sum(b) - intersection\n",
    "                if union == 0:\n",
    "                    return 0\n",
    "                return intersection / union\n",
    "            \n",
    "            nutrition_vector = list(candidate_nutrition.values())\n",
    "            other_nutrition_vector = list(other_candidate_nutrition.values())\n",
    "\n",
    "            similarity = iou(nutrition_vector, other_nutrition_vector)\n",
    "            \n",
    "            return similarity\n",
    "        \n",
    "        # Generate many random subsets of candidates, and measure the nutrition diversity in each\n",
    "        num_sample_subsets = 50\n",
    "        sample_subsets_and_their_nutrition_diversity_scores = []\n",
    "        for i in range(num_sample_subsets):\n",
    "            sample_subset = sample_random_subset_of_candidates(generated_candidates, num_ranked_results)\n",
    "\n",
    "            # For each pair of candidates in the subset, measure the similarity.\n",
    "            subset_nutrition_similarities = []\n",
    "            for candidate in sample_subset:\n",
    "                for otherCandidate in sample_subset:\n",
    "                    if candidate['id'] != otherCandidate['id']:\n",
    "                        # Compare every candidate with every other candidate\n",
    "                        candidate_nutrition = {\n",
    "                            'fat': candidate['fat'],\n",
    "                            'protein': candidate['protein'],\n",
    "                            'sodium': candidate['sodium'],\n",
    "                            'calories': candidate['calories']\n",
    "                        }\n",
    "\n",
    "                        other_candidate_nutrition = {\n",
    "                            'fat': otherCandidate['fat'],\n",
    "                            'protein': otherCandidate['protein'],\n",
    "                            'sodium': otherCandidate['sodium'],\n",
    "                            'calories': otherCandidate['calories']\n",
    "                        }\n",
    "\n",
    "                        # Check for missing nutrient information, don't include in average\n",
    "                        if None not in list(candidate_nutrition.values()) and None not in list(other_candidate_nutrition.values()):\n",
    "                            nutrition_sim = nutrition_similarity(candidate_nutrition, other_candidate_nutrition)\n",
    "                            subset_nutrition_similarities.append(nutrition_sim)\n",
    "\n",
    "            # Average the similarity across pairs of candidates to get a measure of how similar the cluster is to itself\n",
    "            average_inter_subset_nutrition_similarity = sum(subset_nutrition_similarities) / len(subset_nutrition_similarities)\n",
    "\n",
    "            # Diversity score is the opposite of average similarity\n",
    "            nutrition_diversity_score = -1 * average_inter_subset_nutrition_similarity # Diversity is negative similarity\n",
    "\n",
    "            # Record the diversity score for each randomly generated subset\n",
    "            sample_subsets_and_their_nutrition_diversity_scores.append((sample_subset, nutrition_diversity_score))\n",
    "\n",
    "        # Pick the subset with the highest nutrition diversity\n",
    "        most_nutrition_diverse_subset = [subset_score_pair[0] for subset_score_pair in sorted(sample_subsets_and_their_nutrition_diversity_scores, key=lambda x: -x[1], reverse=False)][0]\n",
    "\n",
    "        # Sort resulting items by rating\n",
    "        ranked_results = sorted(most_nutrition_diverse_subset, key=lambda x: -x['rating'])\n",
    "\n",
    "        return ranked_results\n",
    "    \n",
    "    num_generated_candidates = 100\n",
    "    num_ranked_results = 20\n",
    "\n",
    "    generated_candidates = candidate_generator(num_generated_candidates)\n",
    "    final_results = ranker(generated_candidates, num_ranked_results)\n",
    "\n",
    "    return final_results\n",
    "\n"
   ]
  },
  {
   "cell_type": "code",
   "execution_count": 5,
   "metadata": {},
   "outputs": [],
   "source": [
    "data = None\n",
    "with open('data/full_format_recipes_plus_normalized_ingredients.json') as f:\n",
    "    data = json.load(f)\n",
    "for i, recipe in enumerate(data):\n",
    "    recipe['id'] = i\n"
   ]
  },
  {
   "cell_type": "code",
   "execution_count": 20,
   "metadata": {},
   "outputs": [
    {
     "data": {
      "text/plain": [
       "100"
      ]
     },
     "execution_count": 20,
     "metadata": {},
     "output_type": "execute_result"
    }
   ],
   "source": [
    "len(data)"
   ]
  },
  {
   "cell_type": "code",
   "execution_count": 41,
   "metadata": {},
   "outputs": [],
   "source": [
    "def get_recs(args):  \n",
    "    fields = ['cart', 'allergys', 'pantry']\n",
    "    list_separator = ';;;'\n",
    "    \n",
    "    recommendation_params = {}\n",
    "    \n",
    "    for field in fields:\n",
    "        if field in args:\n",
    "            recommendation_params[field] = args[field].split(list_separator)\n",
    "\n",
    "    recs = query(recommendation_params)\n",
    "\n",
    "    return recs\n",
    "\n",
    "diff_r = []\n",
    "args = [{'cart': '12', 'allergys': 'shellfish', 'pantry': 'carrots'},\n",
    "        {'cart': '10', 'allergys': 'dairy', 'pantry': 'potatoes'},\n",
    "        {'cart': '10', 'allergys': 'gluten', 'pantry': ''},\n",
    "        {'cart': '96', 'allergys': '', 'pantry': 'carrots'},\n",
    "        {'cart': '45', 'allergys': 'nut', 'pantry': ''}]\n",
    "\n",
    "for i in range(5):\n",
    "    diff_r.append(get_recs(args[i]))"
   ]
  },
  {
   "cell_type": "code",
   "execution_count": 45,
   "metadata": {},
   "outputs": [
    {
     "data": {
      "text/plain": [
       "array([[1.        , 0.1490712 , 0.28005602, 0.21821789, 0.18257419],\n",
       "       [0.1490712 , 1.        , 0.06262243, 0.09759001, 0.08164966],\n",
       "       [0.28005602, 0.06262243, 1.        , 0.09166985, 0.153393  ],\n",
       "       [0.21821789, 0.09759001, 0.09166985, 1.        , 0.23904572],\n",
       "       [0.18257419, 0.08164966, 0.153393  , 0.23904572, 1.        ]])"
      ]
     },
     "execution_count": 45,
     "metadata": {},
     "output_type": "execute_result"
    }
   ],
   "source": [
    "x = []\n",
    "for user in diff_r:\n",
    "    x.append(user[0]['ingredient_vector'])\n",
    "x = np.array(x)\n",
    "from sklearn.metrics.pairwise import cosine_similarity\n",
    "sim = cosine_similarity(x)\n",
    "sim"
   ]
  },
  {
   "cell_type": "code",
   "execution_count": 46,
   "metadata": {},
   "outputs": [
    {
     "data": {
      "text/plain": [
       "6.55588997"
      ]
     },
     "execution_count": 46,
     "metadata": {},
     "output_type": "execute_result"
    }
   ],
   "source": [
    "np.sum([1.        , 0.1490712 , 0.28005602, 0.21821789, 0.18257419, 1.        , 0.06262243, 0.09759001, 0.08164966, 1.        , 0.09166985, 0.153393  , 1.        , 0.23904572, 1])"
   ]
  },
  {
   "cell_type": "code",
   "execution_count": 47,
   "metadata": {},
   "outputs": [
    {
     "data": {
      "text/plain": [
       "1.55588997"
      ]
     },
     "execution_count": 47,
     "metadata": {},
     "output_type": "execute_result"
    }
   ],
   "source": [
    "6.55588997-5"
   ]
  },
  {
   "cell_type": "code",
   "execution_count": 48,
   "metadata": {},
   "outputs": [
    {
     "data": {
      "text/plain": [
       "0.311177994"
      ]
     },
     "execution_count": 48,
     "metadata": {},
     "output_type": "execute_result"
    }
   ],
   "source": [
    "1.55588997/5"
   ]
  },
  {
   "cell_type": "code",
   "execution_count": 32,
   "metadata": {},
   "outputs": [
    {
     "name": "stdout",
     "output_type": "stream",
     "text": [
      "dict_keys(['directions', 'fat', 'date', 'categories', 'calories', 'desc', 'protein', 'rating', 'title', 'ingredients', 'sodium', 'ingredient_names', 'parsed_ingredients', 'ingredient_vector', 'id'])\n",
      "dict_keys(['directions', 'fat', 'date', 'categories', 'calories', 'desc', 'protein', 'rating', 'title', 'ingredients', 'sodium', 'ingredient_names', 'parsed_ingredients', 'ingredient_vector', 'id'])\n",
      "dict_keys(['directions', 'fat', 'date', 'categories', 'calories', 'desc', 'protein', 'rating', 'title', 'ingredients', 'sodium', 'ingredient_names', 'parsed_ingredients', 'ingredient_vector', 'id'])\n",
      "dict_keys(['directions', 'fat', 'date', 'categories', 'calories', 'desc', 'protein', 'rating', 'title', 'ingredients', 'sodium', 'ingredient_names', 'parsed_ingredients', 'ingredient_vector', 'id'])\n",
      "dict_keys(['directions', 'fat', 'date', 'categories', 'calories', 'desc', 'protein', 'rating', 'title', 'ingredients', 'sodium', 'ingredient_names', 'parsed_ingredients', 'ingredient_vector', 'id'])\n",
      "dict_keys(['directions', 'fat', 'date', 'categories', 'calories', 'desc', 'protein', 'rating', 'title', 'ingredients', 'sodium', 'ingredient_names', 'parsed_ingredients', 'ingredient_vector', 'id'])\n",
      "dict_keys(['directions', 'fat', 'date', 'categories', 'calories', 'desc', 'protein', 'rating', 'title', 'ingredients', 'sodium', 'ingredient_names', 'parsed_ingredients', 'ingredient_vector', 'id'])\n",
      "dict_keys(['directions', 'fat', 'date', 'categories', 'calories', 'desc', 'protein', 'rating', 'title', 'ingredients', 'sodium', 'ingredient_names', 'parsed_ingredients', 'ingredient_vector', 'id'])\n",
      "dict_keys(['directions', 'fat', 'date', 'categories', 'calories', 'desc', 'protein', 'rating', 'title', 'ingredients', 'sodium', 'ingredient_names', 'parsed_ingredients', 'ingredient_vector', 'id'])\n",
      "dict_keys(['directions', 'fat', 'date', 'categories', 'calories', 'desc', 'protein', 'rating', 'title', 'ingredients', 'sodium', 'ingredient_names', 'parsed_ingredients', 'ingredient_vector', 'id'])\n",
      "dict_keys(['directions', 'fat', 'date', 'categories', 'calories', 'desc', 'protein', 'rating', 'title', 'ingredients', 'sodium', 'ingredient_names', 'parsed_ingredients', 'ingredient_vector', 'id'])\n",
      "dict_keys(['directions', 'fat', 'date', 'categories', 'calories', 'desc', 'protein', 'rating', 'title', 'ingredients', 'sodium', 'ingredient_names', 'parsed_ingredients', 'ingredient_vector', 'id'])\n",
      "dict_keys(['directions', 'fat', 'date', 'categories', 'calories', 'desc', 'protein', 'rating', 'title', 'ingredients', 'sodium', 'ingredient_names', 'parsed_ingredients', 'ingredient_vector', 'id'])\n",
      "dict_keys(['directions', 'fat', 'date', 'categories', 'calories', 'desc', 'protein', 'rating', 'title', 'ingredients', 'sodium', 'ingredient_names', 'parsed_ingredients', 'ingredient_vector', 'id'])\n",
      "dict_keys(['directions', 'fat', 'date', 'categories', 'calories', 'desc', 'protein', 'rating', 'title', 'ingredients', 'sodium', 'ingredient_names', 'parsed_ingredients', 'ingredient_vector', 'id'])\n",
      "dict_keys(['directions', 'fat', 'date', 'categories', 'calories', 'desc', 'protein', 'rating', 'title', 'ingredients', 'sodium', 'ingredient_names', 'parsed_ingredients', 'ingredient_vector', 'id'])\n",
      "dict_keys(['directions', 'fat', 'date', 'categories', 'calories', 'desc', 'protein', 'rating', 'title', 'ingredients', 'sodium', 'ingredient_names', 'parsed_ingredients', 'ingredient_vector', 'id'])\n",
      "dict_keys(['directions', 'fat', 'date', 'categories', 'calories', 'desc', 'protein', 'rating', 'title', 'ingredients', 'sodium', 'ingredient_names', 'parsed_ingredients', 'ingredient_vector', 'id'])\n",
      "dict_keys(['directions', 'fat', 'date', 'categories', 'calories', 'desc', 'protein', 'rating', 'title', 'ingredients', 'sodium', 'ingredient_names', 'parsed_ingredients', 'ingredient_vector', 'id'])\n",
      "dict_keys(['directions', 'fat', 'date', 'categories', 'calories', 'desc', 'protein', 'rating', 'title', 'ingredients', 'sodium', 'ingredient_names', 'parsed_ingredients', 'ingredient_vector', 'id'])\n",
      "dict_keys(['directions', 'fat', 'date', 'categories', 'calories', 'desc', 'protein', 'rating', 'title', 'ingredients', 'sodium', 'ingredient_names', 'parsed_ingredients', 'ingredient_vector', 'id'])\n",
      "dict_keys(['directions', 'fat', 'date', 'categories', 'calories', 'desc', 'protein', 'rating', 'title', 'ingredients', 'sodium', 'ingredient_names', 'parsed_ingredients', 'ingredient_vector', 'id'])\n",
      "dict_keys(['directions', 'fat', 'date', 'categories', 'calories', 'desc', 'protein', 'rating', 'title', 'ingredients', 'sodium', 'ingredient_names', 'parsed_ingredients', 'ingredient_vector', 'id'])\n",
      "dict_keys(['directions', 'fat', 'date', 'categories', 'calories', 'desc', 'protein', 'rating', 'title', 'ingredients', 'sodium', 'ingredient_names', 'parsed_ingredients', 'ingredient_vector', 'id'])\n",
      "dict_keys(['directions', 'fat', 'date', 'categories', 'calories', 'desc', 'protein', 'rating', 'title', 'ingredients', 'sodium', 'ingredient_names', 'parsed_ingredients', 'ingredient_vector', 'id'])\n",
      "dict_keys(['directions', 'fat', 'date', 'categories', 'calories', 'desc', 'protein', 'rating', 'title', 'ingredients', 'sodium', 'ingredient_names', 'parsed_ingredients', 'ingredient_vector', 'id'])\n",
      "dict_keys(['directions', 'fat', 'date', 'categories', 'calories', 'desc', 'protein', 'rating', 'title', 'ingredients', 'sodium', 'ingredient_names', 'parsed_ingredients', 'ingredient_vector', 'id'])\n",
      "dict_keys(['directions', 'fat', 'date', 'categories', 'calories', 'desc', 'protein', 'rating', 'title', 'ingredients', 'sodium', 'ingredient_names', 'parsed_ingredients', 'ingredient_vector', 'id'])\n",
      "dict_keys(['directions', 'fat', 'date', 'categories', 'calories', 'desc', 'protein', 'rating', 'title', 'ingredients', 'sodium', 'ingredient_names', 'parsed_ingredients', 'ingredient_vector', 'id'])\n",
      "dict_keys(['directions', 'fat', 'date', 'categories', 'calories', 'desc', 'protein', 'rating', 'title', 'ingredients', 'sodium', 'ingredient_names', 'parsed_ingredients', 'ingredient_vector', 'id'])\n",
      "dict_keys(['directions', 'fat', 'date', 'categories', 'calories', 'desc', 'protein', 'rating', 'title', 'ingredients', 'sodium', 'ingredient_names', 'parsed_ingredients', 'ingredient_vector', 'id'])\n",
      "dict_keys(['directions', 'fat', 'date', 'categories', 'calories', 'desc', 'protein', 'rating', 'title', 'ingredients', 'sodium', 'ingredient_names', 'parsed_ingredients', 'ingredient_vector', 'id'])\n",
      "dict_keys(['directions', 'fat', 'date', 'categories', 'calories', 'desc', 'protein', 'rating', 'title', 'ingredients', 'sodium', 'ingredient_names', 'parsed_ingredients', 'ingredient_vector', 'id'])\n",
      "dict_keys(['directions', 'fat', 'date', 'categories', 'calories', 'desc', 'protein', 'rating', 'title', 'ingredients', 'sodium', 'ingredient_names', 'parsed_ingredients', 'ingredient_vector', 'id'])\n",
      "dict_keys(['directions', 'fat', 'date', 'categories', 'calories', 'desc', 'protein', 'rating', 'title', 'ingredients', 'sodium', 'ingredient_names', 'parsed_ingredients', 'ingredient_vector', 'id'])\n",
      "dict_keys(['directions', 'fat', 'date', 'categories', 'calories', 'desc', 'protein', 'rating', 'title', 'ingredients', 'sodium', 'ingredient_names', 'parsed_ingredients', 'ingredient_vector', 'id'])\n",
      "dict_keys(['directions', 'fat', 'date', 'categories', 'calories', 'desc', 'protein', 'rating', 'title', 'ingredients', 'sodium', 'ingredient_names', 'parsed_ingredients', 'ingredient_vector', 'id'])\n",
      "dict_keys(['directions', 'fat', 'date', 'categories', 'calories', 'desc', 'protein', 'rating', 'title', 'ingredients', 'sodium', 'ingredient_names', 'parsed_ingredients', 'ingredient_vector', 'id'])\n",
      "dict_keys(['directions', 'fat', 'date', 'categories', 'calories', 'desc', 'protein', 'rating', 'title', 'ingredients', 'sodium', 'ingredient_names', 'parsed_ingredients', 'ingredient_vector', 'id'])\n",
      "dict_keys(['directions', 'fat', 'date', 'categories', 'calories', 'desc', 'protein', 'rating', 'title', 'ingredients', 'sodium', 'ingredient_names', 'parsed_ingredients', 'ingredient_vector', 'id'])\n",
      "dict_keys(['directions', 'fat', 'date', 'categories', 'calories', 'desc', 'protein', 'rating', 'title', 'ingredients', 'sodium', 'ingredient_names', 'parsed_ingredients', 'ingredient_vector', 'id'])\n",
      "dict_keys(['directions', 'fat', 'date', 'categories', 'calories', 'desc', 'protein', 'rating', 'title', 'ingredients', 'sodium', 'ingredient_names', 'parsed_ingredients', 'ingredient_vector', 'id'])\n",
      "dict_keys(['directions', 'fat', 'date', 'categories', 'calories', 'desc', 'protein', 'rating', 'title', 'ingredients', 'sodium', 'ingredient_names', 'parsed_ingredients', 'ingredient_vector', 'id'])\n",
      "dict_keys(['directions', 'fat', 'date', 'categories', 'calories', 'desc', 'protein', 'rating', 'title', 'ingredients', 'sodium', 'ingredient_names', 'parsed_ingredients', 'ingredient_vector', 'id'])\n",
      "dict_keys(['directions', 'fat', 'date', 'categories', 'calories', 'desc', 'protein', 'rating', 'title', 'ingredients', 'sodium', 'ingredient_names', 'parsed_ingredients', 'ingredient_vector', 'id'])\n",
      "dict_keys(['directions', 'fat', 'date', 'categories', 'calories', 'desc', 'protein', 'rating', 'title', 'ingredients', 'sodium', 'ingredient_names', 'parsed_ingredients', 'ingredient_vector', 'id'])\n",
      "dict_keys(['directions', 'fat', 'date', 'categories', 'calories', 'desc', 'protein', 'rating', 'title', 'ingredients', 'sodium', 'ingredient_names', 'parsed_ingredients', 'ingredient_vector', 'id'])\n",
      "dict_keys(['directions', 'fat', 'date', 'categories', 'calories', 'desc', 'protein', 'rating', 'title', 'ingredients', 'sodium', 'ingredient_names', 'parsed_ingredients', 'ingredient_vector', 'id'])\n",
      "dict_keys(['directions', 'fat', 'date', 'categories', 'calories', 'desc', 'protein', 'rating', 'title', 'ingredients', 'sodium', 'ingredient_names', 'parsed_ingredients', 'ingredient_vector', 'id'])\n",
      "dict_keys(['directions', 'fat', 'date', 'categories', 'calories', 'desc', 'protein', 'rating', 'title', 'ingredients', 'sodium', 'ingredient_names', 'parsed_ingredients', 'ingredient_vector', 'id'])\n",
      "dict_keys(['directions', 'fat', 'date', 'categories', 'calories', 'desc', 'protein', 'rating', 'title', 'ingredients', 'sodium', 'ingredient_names', 'parsed_ingredients', 'ingredient_vector', 'id'])\n",
      "dict_keys(['directions', 'fat', 'date', 'categories', 'calories', 'desc', 'protein', 'rating', 'title', 'ingredients', 'sodium', 'ingredient_names', 'parsed_ingredients', 'ingredient_vector', 'id'])\n",
      "dict_keys(['directions', 'fat', 'date', 'categories', 'calories', 'desc', 'protein', 'rating', 'title', 'ingredients', 'sodium', 'ingredient_names', 'parsed_ingredients', 'ingredient_vector', 'id'])\n",
      "dict_keys(['directions', 'fat', 'date', 'categories', 'calories', 'desc', 'protein', 'rating', 'title', 'ingredients', 'sodium', 'ingredient_names', 'parsed_ingredients', 'ingredient_vector', 'id'])\n",
      "dict_keys(['directions', 'fat', 'date', 'categories', 'calories', 'desc', 'protein', 'rating', 'title', 'ingredients', 'sodium', 'ingredient_names', 'parsed_ingredients', 'ingredient_vector', 'id'])\n",
      "dict_keys(['directions', 'fat', 'date', 'categories', 'calories', 'desc', 'protein', 'rating', 'title', 'ingredients', 'sodium', 'ingredient_names', 'parsed_ingredients', 'ingredient_vector', 'id'])\n",
      "dict_keys(['directions', 'fat', 'date', 'categories', 'calories', 'desc', 'protein', 'rating', 'title', 'ingredients', 'sodium', 'ingredient_names', 'parsed_ingredients', 'ingredient_vector', 'id'])\n",
      "dict_keys(['directions', 'fat', 'date', 'categories', 'calories', 'desc', 'protein', 'rating', 'title', 'ingredients', 'sodium', 'ingredient_names', 'parsed_ingredients', 'ingredient_vector', 'id'])\n",
      "dict_keys(['directions', 'fat', 'date', 'categories', 'calories', 'desc', 'protein', 'rating', 'title', 'ingredients', 'sodium', 'ingredient_names', 'parsed_ingredients', 'ingredient_vector', 'id'])\n",
      "dict_keys(['directions', 'fat', 'date', 'categories', 'calories', 'desc', 'protein', 'rating', 'title', 'ingredients', 'sodium', 'ingredient_names', 'parsed_ingredients', 'ingredient_vector', 'id'])\n",
      "dict_keys(['directions', 'fat', 'date', 'categories', 'calories', 'desc', 'protein', 'rating', 'title', 'ingredients', 'sodium', 'ingredient_names', 'parsed_ingredients', 'ingredient_vector', 'id'])\n",
      "dict_keys(['directions', 'fat', 'date', 'categories', 'calories', 'desc', 'protein', 'rating', 'title', 'ingredients', 'sodium', 'ingredient_names', 'parsed_ingredients', 'ingredient_vector', 'id'])\n",
      "dict_keys(['directions', 'fat', 'date', 'categories', 'calories', 'desc', 'protein', 'rating', 'title', 'ingredients', 'sodium', 'ingredient_names', 'parsed_ingredients', 'ingredient_vector', 'id'])\n",
      "dict_keys(['directions', 'fat', 'date', 'categories', 'calories', 'desc', 'protein', 'rating', 'title', 'ingredients', 'sodium', 'ingredient_names', 'parsed_ingredients', 'ingredient_vector', 'id'])\n",
      "dict_keys(['directions', 'fat', 'date', 'categories', 'calories', 'desc', 'protein', 'rating', 'title', 'ingredients', 'sodium', 'ingredient_names', 'parsed_ingredients', 'ingredient_vector', 'id'])\n",
      "dict_keys(['directions', 'fat', 'date', 'categories', 'calories', 'desc', 'protein', 'rating', 'title', 'ingredients', 'sodium', 'ingredient_names', 'parsed_ingredients', 'ingredient_vector', 'id'])\n",
      "dict_keys(['directions', 'fat', 'date', 'categories', 'calories', 'desc', 'protein', 'rating', 'title', 'ingredients', 'sodium', 'ingredient_names', 'parsed_ingredients', 'ingredient_vector', 'id'])\n",
      "dict_keys(['directions', 'fat', 'date', 'categories', 'calories', 'desc', 'protein', 'rating', 'title', 'ingredients', 'sodium', 'ingredient_names', 'parsed_ingredients', 'ingredient_vector', 'id'])\n",
      "dict_keys(['directions', 'fat', 'date', 'categories', 'calories', 'desc', 'protein', 'rating', 'title', 'ingredients', 'sodium', 'ingredient_names', 'parsed_ingredients', 'ingredient_vector', 'id'])\n",
      "dict_keys(['directions', 'fat', 'date', 'categories', 'calories', 'desc', 'protein', 'rating', 'title', 'ingredients', 'sodium', 'ingredient_names', 'parsed_ingredients', 'ingredient_vector', 'id'])\n",
      "dict_keys(['directions', 'fat', 'date', 'categories', 'calories', 'desc', 'protein', 'rating', 'title', 'ingredients', 'sodium', 'ingredient_names', 'parsed_ingredients', 'ingredient_vector', 'id'])\n",
      "dict_keys(['directions', 'fat', 'date', 'categories', 'calories', 'desc', 'protein', 'rating', 'title', 'ingredients', 'sodium', 'ingredient_names', 'parsed_ingredients', 'ingredient_vector', 'id'])\n",
      "dict_keys(['directions', 'fat', 'date', 'categories', 'calories', 'desc', 'protein', 'rating', 'title', 'ingredients', 'sodium', 'ingredient_names', 'parsed_ingredients', 'ingredient_vector', 'id'])\n",
      "dict_keys(['directions', 'fat', 'date', 'categories', 'calories', 'desc', 'protein', 'rating', 'title', 'ingredients', 'sodium', 'ingredient_names', 'parsed_ingredients', 'ingredient_vector', 'id'])\n",
      "dict_keys(['directions', 'fat', 'date', 'categories', 'calories', 'desc', 'protein', 'rating', 'title', 'ingredients', 'sodium', 'ingredient_names', 'parsed_ingredients', 'ingredient_vector', 'id'])\n",
      "dict_keys(['directions', 'fat', 'date', 'categories', 'calories', 'desc', 'protein', 'rating', 'title', 'ingredients', 'sodium', 'ingredient_names', 'parsed_ingredients', 'ingredient_vector', 'id'])\n",
      "dict_keys(['directions', 'fat', 'date', 'categories', 'calories', 'desc', 'protein', 'rating', 'title', 'ingredients', 'sodium', 'ingredient_names', 'parsed_ingredients', 'ingredient_vector', 'id'])\n",
      "dict_keys(['directions', 'fat', 'date', 'categories', 'calories', 'desc', 'protein', 'rating', 'title', 'ingredients', 'sodium', 'ingredient_names', 'parsed_ingredients', 'ingredient_vector', 'id'])\n",
      "dict_keys(['directions', 'fat', 'date', 'categories', 'calories', 'desc', 'protein', 'rating', 'title', 'ingredients', 'sodium', 'ingredient_names', 'parsed_ingredients', 'ingredient_vector', 'id'])\n",
      "dict_keys(['directions', 'fat', 'date', 'categories', 'calories', 'desc', 'protein', 'rating', 'title', 'ingredients', 'sodium', 'ingredient_names', 'parsed_ingredients', 'ingredient_vector', 'id'])\n",
      "dict_keys(['directions', 'fat', 'date', 'categories', 'calories', 'desc', 'protein', 'rating', 'title', 'ingredients', 'sodium', 'ingredient_names', 'parsed_ingredients', 'ingredient_vector', 'id'])\n",
      "dict_keys(['directions', 'fat', 'date', 'categories', 'calories', 'desc', 'protein', 'rating', 'title', 'ingredients', 'sodium', 'ingredient_names', 'parsed_ingredients', 'ingredient_vector', 'id'])\n",
      "dict_keys(['directions', 'fat', 'date', 'categories', 'calories', 'desc', 'protein', 'rating', 'title', 'ingredients', 'sodium', 'ingredient_names', 'parsed_ingredients', 'ingredient_vector', 'id'])\n",
      "dict_keys(['directions', 'fat', 'date', 'categories', 'calories', 'desc', 'protein', 'rating', 'title', 'ingredients', 'sodium', 'ingredient_names', 'parsed_ingredients', 'ingredient_vector', 'id'])\n",
      "dict_keys(['directions', 'fat', 'date', 'categories', 'calories', 'desc', 'protein', 'rating', 'title', 'ingredients', 'sodium', 'ingredient_names', 'parsed_ingredients', 'ingredient_vector', 'id'])\n",
      "dict_keys(['directions', 'fat', 'date', 'categories', 'calories', 'desc', 'protein', 'rating', 'title', 'ingredients', 'sodium', 'ingredient_names', 'parsed_ingredients', 'ingredient_vector', 'id'])\n",
      "dict_keys(['directions', 'fat', 'date', 'categories', 'calories', 'desc', 'protein', 'rating', 'title', 'ingredients', 'sodium', 'ingredient_names', 'parsed_ingredients', 'ingredient_vector', 'id'])\n",
      "dict_keys(['directions', 'fat', 'date', 'categories', 'calories', 'desc', 'protein', 'rating', 'title', 'ingredients', 'sodium', 'ingredient_names', 'parsed_ingredients', 'ingredient_vector', 'id'])\n",
      "dict_keys(['directions', 'fat', 'date', 'categories', 'calories', 'desc', 'protein', 'rating', 'title', 'ingredients', 'sodium', 'ingredient_names', 'parsed_ingredients', 'ingredient_vector', 'id'])\n",
      "dict_keys(['directions', 'fat', 'date', 'categories', 'calories', 'desc', 'protein', 'rating', 'title', 'ingredients', 'sodium', 'ingredient_names', 'parsed_ingredients', 'ingredient_vector', 'id'])\n",
      "dict_keys(['directions', 'fat', 'date', 'categories', 'calories', 'desc', 'protein', 'rating', 'title', 'ingredients', 'sodium', 'ingredient_names', 'parsed_ingredients', 'ingredient_vector', 'id'])\n",
      "dict_keys(['directions', 'fat', 'date', 'categories', 'calories', 'desc', 'protein', 'rating', 'title', 'ingredients', 'sodium', 'ingredient_names', 'parsed_ingredients', 'ingredient_vector', 'id'])\n",
      "dict_keys(['directions', 'fat', 'date', 'categories', 'calories', 'desc', 'protein', 'rating', 'title', 'ingredients', 'sodium', 'ingredient_names', 'parsed_ingredients', 'ingredient_vector', 'id'])\n",
      "dict_keys(['directions', 'fat', 'date', 'categories', 'calories', 'desc', 'protein', 'rating', 'title', 'ingredients', 'sodium', 'ingredient_names', 'parsed_ingredients', 'ingredient_vector', 'id'])\n",
      "dict_keys(['directions', 'fat', 'date', 'categories', 'calories', 'desc', 'protein', 'rating', 'title', 'ingredients', 'sodium', 'ingredient_names', 'parsed_ingredients', 'ingredient_vector', 'id'])\n",
      "dict_keys(['directions', 'fat', 'date', 'categories', 'calories', 'desc', 'protein', 'rating', 'title', 'ingredients', 'sodium', 'ingredient_names', 'parsed_ingredients', 'ingredient_vector', 'id'])\n",
      "dict_keys(['directions', 'fat', 'date', 'categories', 'calories', 'desc', 'protein', 'rating', 'title', 'ingredients', 'sodium', 'ingredient_names', 'parsed_ingredients', 'ingredient_vector', 'id'])\n",
      "dict_keys(['directions', 'fat', 'date', 'categories', 'calories', 'desc', 'protein', 'rating', 'title', 'ingredients', 'sodium', 'ingredient_names', 'parsed_ingredients', 'ingredient_vector', 'id'])\n",
      "dict_keys(['directions', 'fat', 'date', 'categories', 'calories', 'desc', 'protein', 'rating', 'title', 'ingredients', 'sodium', 'ingredient_names', 'parsed_ingredients', 'ingredient_vector', 'id'])\n",
      "dict_keys(['directions', 'fat', 'date', 'categories', 'calories', 'desc', 'protein', 'rating', 'title', 'ingredients', 'sodium', 'ingredient_names', 'parsed_ingredients', 'ingredient_vector', 'id'])\n",
      "0\n"
     ]
    }
   ],
   "source": [
    "diff_r = np.array(diff_r)\n",
    "user = {}\n",
    "recipes_ret= set()\n",
    "for i in range(5):\n",
    "    for rec in (diff_r[i]) : ## iterate over all recipes for one user\n",
    "        print(rec.keys())\n",
    "        #recipes_ret.add(rec['title'])\n",
    "\n",
    "print(len(recipes_ret))"
   ]
  },
  {
   "cell_type": "code",
   "execution_count": 35,
   "metadata": {},
   "outputs": [
    {
     "data": {
      "text/plain": [
       "(20, 20)"
      ]
     },
     "execution_count": 35,
     "metadata": {},
     "output_type": "execute_result"
    }
   ],
   "source": [
    "s = []\n",
    "for ls in x:\n",
    "    #print(ls['ingredient_vector'])\n",
    "    s.append(ls['ingredient_vector'])\n",
    "s = np.array(s)\n",
    "from sklearn.metrics.pairwise import cosine_similarity\n",
    "similarities = cosine_similarity(s)\n",
    "similarities.shape"
   ]
  },
  {
   "cell_type": "code",
   "execution_count": null,
   "metadata": {},
   "outputs": [],
   "source": []
  }
 ],
 "metadata": {
  "colab": {
   "name": "Untitled6.ipynb",
   "provenance": []
  },
  "kernelspec": {
   "display_name": "Python 3",
   "language": "python",
   "name": "python3"
  },
  "language_info": {
   "codemirror_mode": {
    "name": "ipython",
    "version": 3
   },
   "file_extension": ".py",
   "mimetype": "text/x-python",
   "name": "python",
   "nbconvert_exporter": "python",
   "pygments_lexer": "ipython3",
   "version": "3.7.6"
  }
 },
 "nbformat": 4,
 "nbformat_minor": 1
}
