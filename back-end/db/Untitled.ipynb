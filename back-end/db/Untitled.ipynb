{
 "cells": [
  {
   "cell_type": "code",
   "execution_count": 30,
   "metadata": {},
   "outputs": [],
   "source": [
    "import sys\n",
    "sys._enablelegacywindowsfsencoding()\n",
    "\n",
    "from os.path import join\n",
    "import csv\n",
    "import pandas\n",
    "import re\n",
    "\n",
    "base_dir = u\"C:/D-drive-18921/College/AI System Design/aidesign-proj/back-end/data\"\n",
    "\n",
    "recipes_filename = 'recipeslist.csv'\n",
    "duration_filename = 'shelf_life.csv'\n",
    "\n",
    "recipe_path= join(base_dir, recipes_filename)\n",
    "duration_path= join(base_dir, duration_filename)\n"
   ]
  },
  {
   "cell_type": "code",
   "execution_count": 46,
   "metadata": {},
   "outputs": [],
   "source": [
    "import pandas as pd\n",
    "\n",
    "df = pd.read_csv('C:/D-drive-18921/College/AI System Design//aidesign-proj/back-end/data/new_recipe_db.csv', encoding='latin-1')\n",
    "df = df[df['ingredients']!= '[]']\n",
    "df.to_csv('C:/D-drive-18921/College/AI System Design//aidesign-proj/back-end/data/new_recipe_db.csv', encoding='latin-1')"
   ]
  },
  {
   "cell_type": "code",
   "execution_count": 48,
   "metadata": {},
   "outputs": [],
   "source": [
    "df= pd.read_csv('C:/D-drive-18921/College/AI System Design/ingredient-phrase-tagger/final_parsing/parsed_ingredients.csv', encoding='latin-1')\n",
    "df.columns = ['recipe_id', 'parsed_ingredients']\n",
    "df.shape\n",
    "df1 = pd.read_csv('C:/D-drive-18921/College/AI System Design//aidesign-proj/back-end/data/new_recipe_db.csv', encoding='latin-1')\n",
    "df1['parsed_ingredients'] = df['parsed_ingredients']\n",
    "df1.head()\n",
    "df1.to_csv('C:/D-drive-18921/College/AI System Design//aidesign-proj/back-end/data/new_recipe_db_parsed.csv', encoding = 'latin-1')"
   ]
  },
  {
   "cell_type": "code",
   "execution_count": 49,
   "metadata": {},
   "outputs": [
    {
     "data": {
      "text/plain": [
       "(11387, 12)"
      ]
     },
     "execution_count": 49,
     "metadata": {},
     "output_type": "execute_result"
    }
   ],
   "source": [
    "df1.shape"
   ]
  },
  {
   "cell_type": "code",
   "execution_count": null,
   "metadata": {},
   "outputs": [],
   "source": []
  },
  {
   "cell_type": "code",
   "execution_count": null,
   "metadata": {},
   "outputs": [],
   "source": []
  },
  {
   "cell_type": "code",
   "execution_count": null,
   "metadata": {},
   "outputs": [],
   "source": []
  },
  {
   "cell_type": "code",
   "execution_count": null,
   "metadata": {},
   "outputs": [],
   "source": []
  },
  {
   "cell_type": "code",
   "execution_count": 17,
   "metadata": {},
   "outputs": [
    {
     "data": {
      "text/html": [
       "<div>\n",
       "<style scoped>\n",
       "    .dataframe tbody tr th:only-of-type {\n",
       "        vertical-align: middle;\n",
       "    }\n",
       "\n",
       "    .dataframe tbody tr th {\n",
       "        vertical-align: top;\n",
       "    }\n",
       "\n",
       "    .dataframe thead th {\n",
       "        text-align: right;\n",
       "    }\n",
       "</style>\n",
       "<table border=\"1\" class=\"dataframe\">\n",
       "  <thead>\n",
       "    <tr style=\"text-align: right;\">\n",
       "      <th></th>\n",
       "      <th>0</th>\n",
       "      <th>1</th>\n",
       "    </tr>\n",
       "  </thead>\n",
       "  <tbody>\n",
       "    <tr>\n",
       "      <th>0</th>\n",
       "      <td>0</td>\n",
       "      <td>[{u'input': u'250 gram macaroni', u'qty': u'25...</td>\n",
       "    </tr>\n",
       "    <tr>\n",
       "      <th>1</th>\n",
       "      <td>1</td>\n",
       "      <td>[{u'comment': u'plus a drizzle to serve (optio...</td>\n",
       "    </tr>\n",
       "    <tr>\n",
       "      <th>2</th>\n",
       "      <td>2</td>\n",
       "      <td>[{u'comment': u'cut into individual ribs', u'i...</td>\n",
       "    </tr>\n",
       "    <tr>\n",
       "      <th>3</th>\n",
       "      <td>3</td>\n",
       "      <td>[{u'comment': u', finely chopped', u'name': u'...</td>\n",
       "    </tr>\n",
       "    <tr>\n",
       "      <th>4</th>\n",
       "      <td>4</td>\n",
       "      <td>[{u'input': u'50 millilitre cherry brandy liqu...</td>\n",
       "    </tr>\n",
       "  </tbody>\n",
       "</table>\n",
       "</div>"
      ],
      "text/plain": [
       "   0                                                  1\n",
       "0  0  [{u'input': u'250 gram macaroni', u'qty': u'25...\n",
       "1  1  [{u'comment': u'plus a drizzle to serve (optio...\n",
       "2  2  [{u'comment': u'cut into individual ribs', u'i...\n",
       "3  3  [{u'comment': u', finely chopped', u'name': u'...\n",
       "4  4  [{u'input': u'50 millilitre cherry brandy liqu..."
      ]
     },
     "execution_count": 17,
     "metadata": {},
     "output_type": "execute_result"
    }
   ],
   "source": [
    "import pandas as pd\n",
    "\n",
    "df1 = pd.read_csv('C:/D-drive-18921/College/AI System Design/ingredient-phrase-tagger/final_parsing/parsed_ingredients_1.csv', encoding='latin-1', header=None)\n",
    "df2 = pd.read_csv('C:/D-drive-18921/College/AI System Design/ingredient-phrase-tagger/final_parsing/parsed_ingredients_2.csv', encoding='latin-1', header=None)\n",
    "\n",
    "df = pd.concat([df1, df2])\n",
    "df.head()"
   ]
  },
  {
   "cell_type": "code",
   "execution_count": 16,
   "metadata": {},
   "outputs": [
    {
     "data": {
      "text/plain": [
       "(11387, 2)"
      ]
     },
     "execution_count": 16,
     "metadata": {},
     "output_type": "execute_result"
    }
   ],
   "source": [
    "df.shape"
   ]
  },
  {
   "cell_type": "code",
   "execution_count": 61,
   "metadata": {},
   "outputs": [],
   "source": [
    "import ast\n",
    "df= pd.read_csv('C:/D-drive-18921/College/AI System Design/ingredient-phrase-tagger/final_parsing/parsed_ingredients.csv', encoding='latin-1')\n",
    "df.columns = ['recipe_id', 'parsed_ingredients']\n",
    "df1 = pd.read_csv('C:/D-drive-18921/College/AI System Design//aidesign-proj/back-end/data/new_recipe_db.csv', encoding='latin-1')\n",
    "df1['parsed_ingredients'] = df['parsed_ingredients']\n",
    "df1.head()\n",
    "df1.columns\n",
    "df1['nutrition'] = df1['nutrition'].apply(ast.literal_eval)\n",
    "df1.to_csv('C:/D-drive-18921/College/AI System Design//aidesign-proj/back-end/data/new_recipe_db_parsed.csv', index=False, encoding = 'latin-1')"
   ]
  },
  {
   "cell_type": "code",
   "execution_count": 56,
   "metadata": {},
   "outputs": [],
   "source": [
    "df1.to_json('C:/D-drive-18921/College/AI System Design//aidesign-proj/back-end/data/new_recipe_db_parsed.json', orient='split')"
   ]
  },
  {
   "cell_type": "code",
   "execution_count": 70,
   "metadata": {},
   "outputs": [
    {
     "name": "stdout",
     "output_type": "stream",
     "text": [
      "{'input': '250 gram macaroni', 'display': \"<span class='qty'>250</span><span class='unit'>gram</span><span class='name'>macaroni</span>\", 'name': 'macaroni', 'unit': 'gram', 'qty': '250'}\n"
     ]
    }
   ],
   "source": [
    "import csv\n",
    "import ast\n",
    "import re\n",
    "db_path = 'C:/D-drive-18921/College/AI System Design//aidesign-proj/back-end/data/new_recipe_db_parsed.csv'\n",
    "with open(db_path, 'r', encoding='latin-1') as f:\n",
    "    reader = csv.reader(f, delimiter=',')\n",
    "    for i, row in enumerate(reader):\n",
    "        if i == 0:\n",
    "            continue\n",
    "        recipe_id = i\n",
    "        recipe_name = row[1]\n",
    "        nutrition = ast.literal_eval(row[4])\n",
    "        kcal = nutrition['kcal']\n",
    "        fat = nutrition['fat']\n",
    "        saturated_fat = nutrition['saturates']\n",
    "        carbs = nutrition['carbs']\n",
    "        sugars = nutrition['sugars']\n",
    "        fibre = nutrition['fibre']\n",
    "        protein = nutrition['protein']\n",
    "        salt = nutrition['salt']\n",
    "        \n",
    "        method = row[6]\n",
    "        recipe_yield = row[9]\n",
    "        img_url = row[10]\n",
    "        \n",
    "        recipe_entry = Recipe(recipe_id = recipe_id,\n",
    "                             recipe_name = recipe_name,\n",
    "                             kcal = kcal,\n",
    "                             fat = fat,\n",
    "                             saturated_fat = saturated_fat,\n",
    "                             carbs = carbs,\n",
    "                             sugars = sugars,\n",
    "                             fibre = fibre,\n",
    "                             protein = protein,\n",
    "                             salt = salt,\n",
    "                             method = '-'.join(method),\n",
    "                             recipe_yield = recipe_yield,\n",
    "                             recipe_img = img_url)\n",
    "\n",
    "        session.add(recipe_entry)\n",
    "        \n",
    "        parsed_ingr = ast.literal_eval(row[11])\n",
    "\n",
    "        for ingredient in parsed_ingr:\n",
    "            if 'name' not in ingredient:\n",
    "                continue\n",
    "            ingredient_query = session.query(Ingredient).filter_by(name=ingredient['name'])\n",
    "            if ingredient_query.count() > 0:\n",
    "                ingredient_entry = ingredient_query.first()\n",
    "            else:\n",
    "                ingredient_entry = Ingredient(name=ingredient['name'])\n",
    "                session.add(ingredient_entry)\n",
    "\n",
    "            recipe_ingredient_query = session.query(RecipeIngredient).filter_by(recipe_id=recipe_entry.recipe_id, \n",
    "                                                                                ingredient_id=ingredient_entry.ingr_id)\n",
    "            if recipe_ingredient_query.count() > 0:\n",
    "                continue\n",
    "\n",
    "            recipe_ingredient_entry = RecipeIngredient(recipe=recipe_entry, ingredient=ingredient_entry)\n",
    "            if 'qty' in ingredient:\n",
    "                recipe_ingredient_entry.quantity = ingredient['qty']\n",
    "            if 'unit' in ingredient:\n",
    "                recipe_ingredient_entry.unit = ingredient['unit']\n",
    "            recipe_entry.ingredients.append(recipe_ingredient_entry)\n",
    "            ingredient_entry.recipes.append(recipe_ingredient_entry)\n",
    "            session.add(recipe_ingredient_entry)\n",
    "            session.commit()\n",
    "\n",
    "#         kcal = nutrition['kcal']\n",
    "#         fat = nutrition['fat']\n",
    "#         saturated_fat = nutrition['saturates']\n",
    "        ### index, name, author, description, nutrition, ingredients, method, time, difficulty, servings, img_url, parsed\n",
    "\n",
    "# df = pd.read_csv(db_path)\n",
    "# df.iloc[1, :]"
   ]
  },
  {
   "cell_type": "code",
   "execution_count": null,
   "metadata": {},
   "outputs": [],
   "source": []
  },
  {
   "cell_type": "code",
   "execution_count": 29,
   "metadata": {},
   "outputs": [
    {
     "ename": "ParserError",
     "evalue": "Error tokenizing data. C error: Expected 5 fields in line 55, saw 8\n",
     "output_type": "error",
     "traceback": [
      "\u001b[1;31m---------------------------------------------------------------------------\u001b[0m",
      "\u001b[1;31mParserError\u001b[0m                               Traceback (most recent call last)",
      "\u001b[1;32m<ipython-input-29-d1b0fd7855da>\u001b[0m in \u001b[0;36m<module>\u001b[1;34m\u001b[0m\n\u001b[0;32m      9\u001b[0m \u001b[1;31m# #             continue\u001b[0m\u001b[1;33m\u001b[0m\u001b[1;33m\u001b[0m\u001b[1;33m\u001b[0m\u001b[0m\n\u001b[0;32m     10\u001b[0m \u001b[1;31m#         print(row)\u001b[0m\u001b[1;33m\u001b[0m\u001b[1;33m\u001b[0m\u001b[1;33m\u001b[0m\u001b[0m\n\u001b[1;32m---> 11\u001b[1;33m \u001b[0mdf\u001b[0m \u001b[1;33m=\u001b[0m \u001b[0mpd\u001b[0m\u001b[1;33m.\u001b[0m\u001b[0mread_csv\u001b[0m\u001b[1;33m(\u001b[0m\u001b[0mduration_path\u001b[0m\u001b[1;33m,\u001b[0m \u001b[0mencoding\u001b[0m\u001b[1;33m=\u001b[0m\u001b[1;34m'utf-8'\u001b[0m\u001b[1;33m)\u001b[0m\u001b[1;33m\u001b[0m\u001b[1;33m\u001b[0m\u001b[0m\n\u001b[0m\u001b[0;32m     12\u001b[0m \u001b[0mdf\u001b[0m\u001b[1;33m\u001b[0m\u001b[1;33m\u001b[0m\u001b[0m\n",
      "\u001b[1;32m~\\anaconda3\\lib\\site-packages\\pandas\\io\\parsers.py\u001b[0m in \u001b[0;36mparser_f\u001b[1;34m(filepath_or_buffer, sep, delimiter, header, names, index_col, usecols, squeeze, prefix, mangle_dupe_cols, dtype, engine, converters, true_values, false_values, skipinitialspace, skiprows, skipfooter, nrows, na_values, keep_default_na, na_filter, verbose, skip_blank_lines, parse_dates, infer_datetime_format, keep_date_col, date_parser, dayfirst, cache_dates, iterator, chunksize, compression, thousands, decimal, lineterminator, quotechar, quoting, doublequote, escapechar, comment, encoding, dialect, error_bad_lines, warn_bad_lines, delim_whitespace, low_memory, memory_map, float_precision)\u001b[0m\n\u001b[0;32m    674\u001b[0m         )\n\u001b[0;32m    675\u001b[0m \u001b[1;33m\u001b[0m\u001b[0m\n\u001b[1;32m--> 676\u001b[1;33m         \u001b[1;32mreturn\u001b[0m \u001b[0m_read\u001b[0m\u001b[1;33m(\u001b[0m\u001b[0mfilepath_or_buffer\u001b[0m\u001b[1;33m,\u001b[0m \u001b[0mkwds\u001b[0m\u001b[1;33m)\u001b[0m\u001b[1;33m\u001b[0m\u001b[1;33m\u001b[0m\u001b[0m\n\u001b[0m\u001b[0;32m    677\u001b[0m \u001b[1;33m\u001b[0m\u001b[0m\n\u001b[0;32m    678\u001b[0m     \u001b[0mparser_f\u001b[0m\u001b[1;33m.\u001b[0m\u001b[0m__name__\u001b[0m \u001b[1;33m=\u001b[0m \u001b[0mname\u001b[0m\u001b[1;33m\u001b[0m\u001b[1;33m\u001b[0m\u001b[0m\n",
      "\u001b[1;32m~\\anaconda3\\lib\\site-packages\\pandas\\io\\parsers.py\u001b[0m in \u001b[0;36m_read\u001b[1;34m(filepath_or_buffer, kwds)\u001b[0m\n\u001b[0;32m    452\u001b[0m \u001b[1;33m\u001b[0m\u001b[0m\n\u001b[0;32m    453\u001b[0m     \u001b[1;32mtry\u001b[0m\u001b[1;33m:\u001b[0m\u001b[1;33m\u001b[0m\u001b[1;33m\u001b[0m\u001b[0m\n\u001b[1;32m--> 454\u001b[1;33m         \u001b[0mdata\u001b[0m \u001b[1;33m=\u001b[0m \u001b[0mparser\u001b[0m\u001b[1;33m.\u001b[0m\u001b[0mread\u001b[0m\u001b[1;33m(\u001b[0m\u001b[0mnrows\u001b[0m\u001b[1;33m)\u001b[0m\u001b[1;33m\u001b[0m\u001b[1;33m\u001b[0m\u001b[0m\n\u001b[0m\u001b[0;32m    455\u001b[0m     \u001b[1;32mfinally\u001b[0m\u001b[1;33m:\u001b[0m\u001b[1;33m\u001b[0m\u001b[1;33m\u001b[0m\u001b[0m\n\u001b[0;32m    456\u001b[0m         \u001b[0mparser\u001b[0m\u001b[1;33m.\u001b[0m\u001b[0mclose\u001b[0m\u001b[1;33m(\u001b[0m\u001b[1;33m)\u001b[0m\u001b[1;33m\u001b[0m\u001b[1;33m\u001b[0m\u001b[0m\n",
      "\u001b[1;32m~\\anaconda3\\lib\\site-packages\\pandas\\io\\parsers.py\u001b[0m in \u001b[0;36mread\u001b[1;34m(self, nrows)\u001b[0m\n\u001b[0;32m   1131\u001b[0m     \u001b[1;32mdef\u001b[0m \u001b[0mread\u001b[0m\u001b[1;33m(\u001b[0m\u001b[0mself\u001b[0m\u001b[1;33m,\u001b[0m \u001b[0mnrows\u001b[0m\u001b[1;33m=\u001b[0m\u001b[1;32mNone\u001b[0m\u001b[1;33m)\u001b[0m\u001b[1;33m:\u001b[0m\u001b[1;33m\u001b[0m\u001b[1;33m\u001b[0m\u001b[0m\n\u001b[0;32m   1132\u001b[0m         \u001b[0mnrows\u001b[0m \u001b[1;33m=\u001b[0m \u001b[0m_validate_integer\u001b[0m\u001b[1;33m(\u001b[0m\u001b[1;34m\"nrows\"\u001b[0m\u001b[1;33m,\u001b[0m \u001b[0mnrows\u001b[0m\u001b[1;33m)\u001b[0m\u001b[1;33m\u001b[0m\u001b[1;33m\u001b[0m\u001b[0m\n\u001b[1;32m-> 1133\u001b[1;33m         \u001b[0mret\u001b[0m \u001b[1;33m=\u001b[0m \u001b[0mself\u001b[0m\u001b[1;33m.\u001b[0m\u001b[0m_engine\u001b[0m\u001b[1;33m.\u001b[0m\u001b[0mread\u001b[0m\u001b[1;33m(\u001b[0m\u001b[0mnrows\u001b[0m\u001b[1;33m)\u001b[0m\u001b[1;33m\u001b[0m\u001b[1;33m\u001b[0m\u001b[0m\n\u001b[0m\u001b[0;32m   1134\u001b[0m \u001b[1;33m\u001b[0m\u001b[0m\n\u001b[0;32m   1135\u001b[0m         \u001b[1;31m# May alter columns / col_dict\u001b[0m\u001b[1;33m\u001b[0m\u001b[1;33m\u001b[0m\u001b[1;33m\u001b[0m\u001b[0m\n",
      "\u001b[1;32m~\\anaconda3\\lib\\site-packages\\pandas\\io\\parsers.py\u001b[0m in \u001b[0;36mread\u001b[1;34m(self, nrows)\u001b[0m\n\u001b[0;32m   2035\u001b[0m     \u001b[1;32mdef\u001b[0m \u001b[0mread\u001b[0m\u001b[1;33m(\u001b[0m\u001b[0mself\u001b[0m\u001b[1;33m,\u001b[0m \u001b[0mnrows\u001b[0m\u001b[1;33m=\u001b[0m\u001b[1;32mNone\u001b[0m\u001b[1;33m)\u001b[0m\u001b[1;33m:\u001b[0m\u001b[1;33m\u001b[0m\u001b[1;33m\u001b[0m\u001b[0m\n\u001b[0;32m   2036\u001b[0m         \u001b[1;32mtry\u001b[0m\u001b[1;33m:\u001b[0m\u001b[1;33m\u001b[0m\u001b[1;33m\u001b[0m\u001b[0m\n\u001b[1;32m-> 2037\u001b[1;33m             \u001b[0mdata\u001b[0m \u001b[1;33m=\u001b[0m \u001b[0mself\u001b[0m\u001b[1;33m.\u001b[0m\u001b[0m_reader\u001b[0m\u001b[1;33m.\u001b[0m\u001b[0mread\u001b[0m\u001b[1;33m(\u001b[0m\u001b[0mnrows\u001b[0m\u001b[1;33m)\u001b[0m\u001b[1;33m\u001b[0m\u001b[1;33m\u001b[0m\u001b[0m\n\u001b[0m\u001b[0;32m   2038\u001b[0m         \u001b[1;32mexcept\u001b[0m \u001b[0mStopIteration\u001b[0m\u001b[1;33m:\u001b[0m\u001b[1;33m\u001b[0m\u001b[1;33m\u001b[0m\u001b[0m\n\u001b[0;32m   2039\u001b[0m             \u001b[1;32mif\u001b[0m \u001b[0mself\u001b[0m\u001b[1;33m.\u001b[0m\u001b[0m_first_chunk\u001b[0m\u001b[1;33m:\u001b[0m\u001b[1;33m\u001b[0m\u001b[1;33m\u001b[0m\u001b[0m\n",
      "\u001b[1;32mpandas\\_libs\\parsers.pyx\u001b[0m in \u001b[0;36mpandas._libs.parsers.TextReader.read\u001b[1;34m()\u001b[0m\n",
      "\u001b[1;32mpandas\\_libs\\parsers.pyx\u001b[0m in \u001b[0;36mpandas._libs.parsers.TextReader._read_low_memory\u001b[1;34m()\u001b[0m\n",
      "\u001b[1;32mpandas\\_libs\\parsers.pyx\u001b[0m in \u001b[0;36mpandas._libs.parsers.TextReader._read_rows\u001b[1;34m()\u001b[0m\n",
      "\u001b[1;32mpandas\\_libs\\parsers.pyx\u001b[0m in \u001b[0;36mpandas._libs.parsers.TextReader._tokenize_rows\u001b[1;34m()\u001b[0m\n",
      "\u001b[1;32mpandas\\_libs\\parsers.pyx\u001b[0m in \u001b[0;36mpandas._libs.parsers.raise_parser_error\u001b[1;34m()\u001b[0m\n",
      "\u001b[1;31mParserError\u001b[0m: Error tokenizing data. C error: Expected 5 fields in line 55, saw 8\n"
     ]
    }
   ],
   "source": [
    "import pandas as pd\n",
    "#def load_duration(duration_path):\n",
    "# with open(duration_path, 'r', encoding='utf-8') as f:\n",
    "#     reader = csv.reader(f, delimiter=',')\n",
    "#     for i, row in enumerate(reader):\n",
    "# #         if not row:\n",
    "# #             continue\n",
    "# #         if i==0:\n",
    "# #             continue\n",
    "#         print(row)\n",
    "df = pd.read_csv(duration_path, encoding='utf-8')\n",
    "df"
   ]
  },
  {
   "cell_type": "code",
   "execution_count": 34,
   "metadata": {},
   "outputs": [
    {
     "name": "stdout",
     "output_type": "stream",
     "text": [
      "2 <class 'int'>\n",
      "Cauliflower & macaroni cheese <class 'str'>\n",
      "{'kcal': '446', 'fat': '17g', 'saturates': '10g', 'carbs': '57g', 'sugars': '7g', 'fibre': '2g', 'protein': '19g', 'salt': '0.68g'} <class 'str'>\n",
      "['Cook the macaroni following pack instructions, adding the cauliflower for the final 4 mins.', 'Melt the butter in a pan, then stir in the flour and mustard powder and cook for 2 mins. Gradually add the milk, stirring all the time to get a smooth sauce. Add three-quarters of the cheese and some seasoning to the sauce.', 'Drain the macaroni and cauliflower and stir into the cheese sauce. Transfer to an ovenproof dish, then sprinkle over the remaining cheese and flash under a hot grill until golden and bubbling. Serve with a green salad, if you like.'] <class 'str'>\n",
      "[{'prep': {'hrs': None, 'mins': '10 mins'}, 'cook': {'hrs': None, 'mins': '20 mins'}}] <class 'str'>\n",
      " Serves 4  <class 'str'>\n",
      "//www.bbcgoodfood.com/sites/default/files/styles/recipe/public/recipe_images/recipe-image-legacy-id--775475_10.jpg?itok=OimIr2PY <class 'str'>\n"
     ]
    }
   ],
   "source": [
    "from sqlalchemy.ext.declarative import declarative_base\n",
    "from sqlalchemy.orm import relationship\n",
    "from sqlalchemy import create_engine\n",
    "\n",
    "Base = declarative_base()\n",
    "\n",
    "# class Recipe(Base):\n",
    "#     __tablename__ = 'recipe'\n",
    "#     recipe_id = Column(Integer, primary_key=True)\n",
    "#     recipe_name = Column(String(100))\n",
    "#     ingredients = Column(String(2000), nullable=False)\n",
    "#     method = Column(String(250), nullable=False)\n",
    "#     recipe_img = Column(String(200), nullable=True)\n",
    "\n",
    "#     recipe_yield = Column(Integer, nullable=True)\n",
    "#     calories = Column(String(10), nullable=False)\n",
    "#     carbohydrates = Column(String(10), nullable=False)\n",
    "#     protein = Column(String(10), nullable=False)\n",
    "#     fiber = Column(String(10), nullable=False)\n",
    "#     fat = Column(String(10), nullable=False)\n",
    "#     salt = Column(String(10), nullable=False)\n",
    "#     sugars = Column(String(10), nullable=False)\n",
    "#     saturated_fat = Column(String(10), nullable=False)\n",
    "\n",
    "#recipe_path = 'recipeslist.csv'\n",
    "# def load_recipes(recipes_filename):\n",
    "with open(recipe_path, 'r', encoding='utf-8') as f:\n",
    "    reader = csv.reader(f, delimiter=',')\n",
    "    for i, row in enumerate(reader):\n",
    "        if not row:\n",
    "            continue\n",
    "        if i==0:\n",
    "            continue\n",
    "        recipe_id = i\n",
    "        name = row[0]\n",
    "        nutrition = row[3]\n",
    "#         calories = int(nutrition['kcal'])\n",
    "#         recipe_fat = nutrition['fat']\n",
    "#         recipe_saturated_fat = nutrition['saturates']\n",
    "#         recipe_carbohyrdrates = nutrition['carbs']\n",
    "#         recipe_sugars = nutrition['sugars']\n",
    "#         recipe_fiber = nutrition['fibre']\n",
    "#         recipe_protein = nutrition['protein']\n",
    "#         recipe_salt = nutrition['salt']\n",
    "        ingredients_list = row[4]\n",
    "        method = row[5]\n",
    "        time = row[6]\n",
    "        servings = row[8]\n",
    "        img_url = row[9]\n",
    "        \n",
    "        print(recipe_id, type(recipe_id))\n",
    "        print(name, type(name))\n",
    "        print(nutrition, type(nutrition))\n",
    "        print(method, type(method))\n",
    "        print(time, type(time))\n",
    "        print(servings, type(servings))\n",
    "        print(img_url, type(img_url))\n",
    "        break\n",
    "\n",
    "#             recipe = Recipe(recipe_id=recipe_id,\n",
    "#                 recipe_name=name,\n",
    "#                 recipe_image=img_url,\n",
    "#                 method = method,\n",
    "#                 ingredients=ingredients_list,\n",
    "#                 recipe_yield=servings,\n",
    "#                 calories=calories,\n",
    "#                 carbohydrates=recipe_carbohydrates,\n",
    "#                 protein=recipe_protein,\n",
    "#                 fiber=recipe_fiber,\n",
    "#                 fat=recipe_fat,\n",
    "#                 salt = recipe_salt,\n",
    "#                 sugars=recipe_sugars,\n",
    "#                 saturated_fat=recipe_saturated_fat,\n",
    "#                 )\n",
    "#             session.add(recipe)\n",
    "#         session.commit()\n"
   ]
  },
  {
   "cell_type": "code",
   "execution_count": null,
   "metadata": {},
   "outputs": [],
   "source": []
  },
  {
   "cell_type": "code",
   "execution_count": null,
   "metadata": {},
   "outputs": [],
   "source": []
  }
 ],
 "metadata": {
  "kernelspec": {
   "display_name": "Python 3",
   "language": "python",
   "name": "python3"
  },
  "language_info": {
   "codemirror_mode": {
    "name": "ipython",
    "version": 3
   },
   "file_extension": ".py",
   "mimetype": "text/x-python",
   "name": "python",
   "nbconvert_exporter": "python",
   "pygments_lexer": "ipython3",
   "version": "3.7.6"
  }
 },
 "nbformat": 4,
 "nbformat_minor": 4
}
